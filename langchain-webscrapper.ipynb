{
 "cells": [
  {
   "attachments": {},
   "cell_type": "markdown",
   "metadata": {},
   "source": [
    "# Web scrapping for Juniper public KB articles uing langchain and local llm\n",
    "\n",
    "* Install the required packages\n",
    "\n",
    "    #pip install -q openai langchain playwright beautifulsoup4 python-dotenv\n",
    "\n",
    "    #playwright install\n",
    "\n",
    "* Import OPEN AI API key\n"
   ]
  },
  {
   "cell_type": "code",
   "execution_count": null,
   "metadata": {},
   "outputs": [],
   "source": [
    "from dotenv import load_dotenv\n",
    "load_dotenv()"
   ]
  }
 ],
 "metadata": {
  "kernelspec": {
   "display_name": "llm-document-retrieval",
   "language": "python",
   "name": "python3"
  },
  "language_info": {
   "codemirror_mode": {
    "name": "ipython",
    "version": 3
   },
   "file_extension": ".py",
   "mimetype": "text/x-python",
   "name": "python",
   "nbconvert_exporter": "python",
   "pygments_lexer": "ipython3",
   "version": "3.8.0"
  },
  "orig_nbformat": 4,
  "vscode": {
   "interpreter": {
    "hash": "729bbfa98a2439ed0964c3580143574d3bbddb74b61abe84b3602893c857d014"
   }
  }
 },
 "nbformat": 4,
 "nbformat_minor": 2
}
