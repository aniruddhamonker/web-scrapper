{
 "cells": [
  {
   "attachments": {},
   "cell_type": "markdown",
   "metadata": {},
   "source": [
    "# Web scrapping for Juniper public KB articles uing langchain and local llm\n",
    "\n",
    "* Install the required packages\n",
    "\n",
    "    #pip install -q openai langchain playwright beautifulsoup4 python-dotenv\n",
    "\n",
    "    #playwright install\n",
    "\n",
    "* Import OPEN AI API key\n"
   ]
  },
  {
   "attachments": {},
   "cell_type": "markdown",
   "metadata": {},
   "source": [
    "Import Document Loader \"AsyncChromiumLoader\"\n",
    "Import Document transformer \"BeautifulSoupTransformer\""
   ]
  },
  {
   "cell_type": "code",
   "execution_count": 1,
   "metadata": {},
   "outputs": [
    {
     "ename": "ImportError",
     "evalue": "cannot import name 'AsyncChromiumLoader' from 'langchain.document_loaders' (/root/AI-Projects/llm-document-retrieval/lib/python3.8/site-packages/langchain/document_loaders/__init__.py)",
     "output_type": "error",
     "traceback": [
      "\u001b[0;31m---------------------------------------------------------------------------\u001b[0m",
      "\u001b[0;31mImportError\u001b[0m                               Traceback (most recent call last)",
      "Cell \u001b[0;32mIn[1], line 4\u001b[0m\n\u001b[1;32m      1\u001b[0m \u001b[39mfrom\u001b[39;00m \u001b[39mdotenv\u001b[39;00m \u001b[39mimport\u001b[39;00m load_dotenv\n\u001b[1;32m      2\u001b[0m load_dotenv()\n\u001b[0;32m----> 4\u001b[0m \u001b[39mfrom\u001b[39;00m \u001b[39mlangchain\u001b[39;00m\u001b[39m.\u001b[39;00m\u001b[39mdocument_loaders\u001b[39;00m \u001b[39mimport\u001b[39;00m AsyncChromiumLoader\n\u001b[1;32m      5\u001b[0m \u001b[39mfrom\u001b[39;00m \u001b[39mlangchain\u001b[39;00m\u001b[39m.\u001b[39;00m\u001b[39mdocument_transformers\u001b[39;00m \u001b[39mimport\u001b[39;00m BeautifulSoupTransformer\n\u001b[1;32m      7\u001b[0m \u001b[39m# Load HTML\u001b[39;00m\n",
      "\u001b[0;31mImportError\u001b[0m: cannot import name 'AsyncChromiumLoader' from 'langchain.document_loaders' (/root/AI-Projects/llm-document-retrieval/lib/python3.8/site-packages/langchain/document_loaders/__init__.py)"
     ]
    }
   ],
   "source": []
  }
 ],
 "metadata": {
  "kernelspec": {
   "display_name": "llm-document-retrieval",
   "language": "python",
   "name": "python3"
  },
  "language_info": {
   "codemirror_mode": {
    "name": "ipython",
    "version": 3
   },
   "file_extension": ".py",
   "mimetype": "text/x-python",
   "name": "python",
   "nbconvert_exporter": "python",
   "pygments_lexer": "ipython3",
   "version": "3.8.0"
  },
  "orig_nbformat": 4,
  "vscode": {
   "interpreter": {
    "hash": "729bbfa98a2439ed0964c3580143574d3bbddb74b61abe84b3602893c857d014"
   }
  }
 },
 "nbformat": 4,
 "nbformat_minor": 2
}
